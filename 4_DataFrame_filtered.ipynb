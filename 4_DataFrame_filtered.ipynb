{
  "nbformat": 4,
  "nbformat_minor": 0,
  "metadata": {
    "colab": {
      "provenance": [],
      "gpuType": "T4"
    },
    "kernelspec": {
      "name": "python3",
      "display_name": "Python 3"
    },
    "language_info": {
      "name": "python"
    }
  },
  "cells": [
    {
      "cell_type": "code",
      "source": [
        "from google.colab import drive\n",
        "drive.mount('/content/drive')"
      ],
      "metadata": {
        "colab": {
          "base_uri": "https://localhost:8080/"
        },
        "id": "NYCcNZOaq2-Q",
        "outputId": "02d38529-e4d9-4537-9d19-aaa057baf2bb"
      },
      "execution_count": null,
      "outputs": [
        {
          "output_type": "stream",
          "name": "stdout",
          "text": [
            "Mounted at /content/drive\n"
          ]
        }
      ]
    },
    {
      "cell_type": "code",
      "source": [
        "import os\n",
        "import pandas as pd\n",
        "\n",
        "# Indicate the path to the source folder containing the CSV files\n",
        "folder_path = \"/content/drive/MyDrive/Similarity/F_Scienza\"\n",
        "# Indicate the path to the target folder where filtered files will be saved\n",
        "filtered_folder_path = \"/content/drive/MyDrive/Similarities_Scienza_filtered\"\n",
        "\n",
        "# Ensure the target folder exists\n",
        "if not os.path.exists(filtered_folder_path):\n",
        "    os.makedirs(filtered_folder_path)\n",
        "\n",
        "# List of the languages our project focuses on\n",
        "languages = [\"en\", \"it\", \"fr\", \"de\", \"es\"]\n",
        "\n",
        "# Define the function to process each CSV file\n",
        "def process_csv(file_path, relative_path, language_combination_counts):\n",
        "    # Read the CSV file into a pandas DataFrame\n",
        "    df = pd.read_csv(file_path)\n",
        "\n",
        "    # Only keep pairs of sentences that have a cosine similarity greater than or equal to 0.75\n",
        "    df = df[df['Cosine similarity'] >= 0.75]\n",
        "\n",
        "    # Filter rows to include only specified languages\n",
        "    df = df[df['Language 1'].isin(languages) & df['Language 2'].isin(languages)]\n",
        "\n",
        "    # Standardize the order of languages in each row\n",
        "    df['language_combination'] = df.apply(lambda row: '-'.join(sorted([row['Language 1'], row['Language 2']])), axis=1)\n",
        "\n",
        "    # Count occurrences of each language combination\n",
        "    combination_counts = df['language_combination'].value_counts()\n",
        "\n",
        "    # Update the local DataFrame with the counts\n",
        "    for combination, count in combination_counts.items():\n",
        "        lang1, lang2 = combination.split('-')\n",
        "        language_combination_counts.loc[lang1, lang2] += count\n",
        "        if lang1 != lang2:\n",
        "            language_combination_counts.loc[lang2, lang1] += count\n",
        "\n",
        "    # Ensure the subfolder structure is replicated in the target folder\n",
        "    filtered_file_path = os.path.join(filtered_folder_path, relative_path)\n",
        "    os.makedirs(os.path.dirname(filtered_file_path), exist_ok=True)\n",
        "    df.to_csv(filtered_file_path, index=False)"
      ],
      "metadata": {
        "id": "YGXxLofAR8vq"
      },
      "execution_count": null,
      "outputs": []
    },
    {
      "cell_type": "markdown",
      "source": [
        "**Code working on folders with a clear hierarchy**\n",
        "(Gastronomy domain)"
      ],
      "metadata": {
        "id": "ro59L-iPKabK"
      }
    },
    {
      "cell_type": "code",
      "source": [
        "# Function to determine the prevailing language in a given DataFrame\n",
        "def get_prevailing_language(language_combination_counts):\n",
        "    total_counts = language_combination_counts.sum(axis=0)\n",
        "    prevailing_language = total_counts.idxmax()\n",
        "    max_count = total_counts.max()\n",
        "    return prevailing_language, max_count\n",
        "\n",
        "# Traverse the source folder and process each CSV file while maintaining the folder structure\n",
        "for root, dirs, files in os.walk(folder_path):\n",
        "    # Skip the root folder itself\n",
        "    if root == folder_path:\n",
        "        continue\n",
        "\n",
        "    # Initialize an empty DataFrame to store the counts for each subfolder\n",
        "    language_combination_counts = pd.DataFrame(0, index=languages, columns=languages)\n",
        "\n",
        "    for file_name in files:\n",
        "        if file_name.endswith('.csv'):\n",
        "            file_path = os.path.join(root, file_name)\n",
        "            relative_path = os.path.relpath(file_path, folder_path)\n",
        "            process_csv(file_path, relative_path, language_combination_counts)\n",
        "\n",
        "    # Determine the prevailing language for the current subfolder\n",
        "    prevailing_language, max_count = get_prevailing_language(language_combination_counts)\n",
        "\n",
        "    # Print the results for the current subfolder\n",
        "    relative_subfolder = os.path.relpath(root, folder_path)\n",
        "    print(f\"\\nSubfolder: {relative_subfolder}\")\n",
        "    print(\"Language Combination Counts Summary:\")\n",
        "    print(language_combination_counts)\n",
        "    print(\"\\nTotal Counts per Language:\")\n",
        "    print(language_combination_counts.sum(axis=0))\n",
        "    print(f\"\\nThe prevailing language is '{prevailing_language}' with a total count of {max_count}.\")"
      ],
      "metadata": {
        "id": "eT0d2A3XkwHq"
      },
      "execution_count": null,
      "outputs": []
    },
    {
      "cell_type": "markdown",
      "source": [
        "**Code working on folders with a lesser level of organization**\n",
        "(Scientific domain)"
      ],
      "metadata": {
        "id": "9TuKNFxXKlZo"
      }
    },
    {
      "cell_type": "code",
      "source": [
        "import os\n",
        "import pandas as pd\n",
        "\n",
        "# Indicate the path to the source folder containing the CSV files\n",
        "folder_path = \"/content/drive/MyDrive/Similarity/F_Scienza_sim\"\n",
        "# Indicate the path to the target folder where filtered files will be saved\n",
        "filtered_folder_path = \"/content/drive/MyDrive/Similarity/F_Scienza_sim\"\n",
        "\n",
        "# # If it does not exist, create the target folder\n",
        "if not os.path.exists(filtered_folder_path):\n",
        "    os.makedirs(filtered_folder_path)\n",
        "\n",
        "# List of the languages our project focuses on\n",
        "languages = [\"en\", \"it\", \"fr\", \"de\", \"es\"]\n",
        "\n",
        "# Initialize an empty DataFrame to store the counts\n",
        "language_combination_counts = pd.DataFrame(0, index=languages, columns=languages)\n",
        "\n",
        "# Define the function to process each CSV file\n",
        "def process_csv(file_path):\n",
        "    global language_combination_counts\n",
        "\n",
        "    # Read the CSV file into a pandas DataFrame\n",
        "    df = pd.read_csv(file_path)\n",
        "\n",
        "    # Only keep pairs of sentences that have a cosine similarity greater than or equal to 0.75\n",
        "    df = df[df['Cosine similarity'] >= 0.75]\n",
        "\n",
        "    # Filter rows to include only specified languages\n",
        "    df = df[df['Language 1'].isin(languages) & df['Language 2'].isin(languages)]\n",
        "\n",
        "    # Standardize the order of languages in each row\n",
        "    df['language_combination'] = df.apply(lambda row: '-'.join(sorted([row['Language 1'], row['Language 2']])), axis=1)\n",
        "\n",
        "    # Count occurrences of each language combination\n",
        "    combination_counts = df['language_combination'].value_counts()\n",
        "\n",
        "    # Update the global DataFrame with the counts\n",
        "    for combination, count in combination_counts.items():\n",
        "        lang1, lang2 = combination.split('-')\n",
        "        language_combination_counts.loc[lang1, lang2] += count\n",
        "        if lang1 != lang2:\n",
        "            language_combination_counts.loc[lang2, lang1] += count\n",
        "\n",
        "    # Save the filtered DataFrame to a new CSV file\n",
        "    filtered_file_path = os.path.join(filtered_folder_path, os.path.basename(file_path))\n",
        "    df.to_csv(filtered_file_path, index=False)\n",
        "\n",
        "# List all files in the folder\n",
        "file_list = os.listdir(folder_path)\n",
        "\n",
        "# Iterate over each file in file_list, check if the file is a csv file, and implement the process_csv function\n",
        "for file_name in file_list:\n",
        "    if file_name.endswith('.csv'):\n",
        "        file_path = os.path.join(folder_path, file_name)\n",
        "        process_csv(file_path)\n",
        "\n",
        "# Print the final DataFrame with counts\n",
        "print(\"Language Combination Counts Summary:\")\n",
        "print(language_combination_counts)\n",
        "\n",
        "# Determine which language has the highest total counts\n",
        "total_counts = language_combination_counts.sum(axis=0)\n",
        "prevailing_language = total_counts.idxmax()\n",
        "max_count = total_counts.max()\n",
        "\n",
        "print(\"\\nTotal Counts per Language:\")\n",
        "print(total_counts)\n",
        "print(f\"\\nThe prevailing language is '{prevailing_language}' with a total count of {max_count}.\")\n"
      ],
      "metadata": {
        "colab": {
          "base_uri": "https://localhost:8080/"
        },
        "id": "9xt2CedTKX7o",
        "outputId": "756428c8-e679-48a1-9b99-92f741a61a48"
      },
      "execution_count": null,
      "outputs": [
        {
          "output_type": "stream",
          "name": "stdout",
          "text": [
            "Language Combination Counts Summary:\n",
            "      en    it    fr    de    es\n",
            "en     0  4164  3018  1285  3425\n",
            "it  4164     0  2468  1567  2998\n",
            "fr  3018  2468     0  1450  2152\n",
            "de  1285  1567  1450     0  1125\n",
            "es  3425  2998  2152  1125     0\n",
            "\n",
            "Total Counts per Language:\n",
            "en    11892\n",
            "it    11197\n",
            "fr     9088\n",
            "de     5427\n",
            "es     9700\n",
            "dtype: int64\n",
            "\n",
            "The prevailing language is 'en' with a total count of 11892.\n"
          ]
        }
      ]
    }
  ]
}